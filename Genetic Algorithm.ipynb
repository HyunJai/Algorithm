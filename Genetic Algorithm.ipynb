{
 "cells": [
  {
   "cell_type": "markdown",
   "metadata": {},
   "source": [
    "# GA(Generatic Algorithm)"
   ]
  },
  {
   "cell_type": "code",
   "execution_count": 11,
   "metadata": {},
   "outputs": [],
   "source": [
    "geneSet = \"abcdefghijklmnopqrstuvwxyzABCDEFGHIJKLMNOPQRSTUVWXYZ!.\"\n",
    "\n",
    "# target = \"Hello World!\"\n",
    "target = 'Python.is.fun'"
   ]
  },
  {
   "cell_type": "code",
   "execution_count": 12,
   "metadata": {},
   "outputs": [],
   "source": [
    "import random\n",
    "import datetime\n",
    "\n",
    "def gen_parent(length): # generate random individual\n",
    "    genes = []\n",
    "    while len(genes) < length:\n",
    "        sampleSize = min(length-len(genes), len(geneSet))\n",
    "        genes.extend(random.sample(geneSet, sampleSize)) # extend() : 가장 바깥쪽 iterable의 모든 항목추가\n",
    "                                                         # append() : input 1개를 그대로 추가\n",
    "        \n",
    "    return ''.join(genes)\n",
    "\n",
    "def get_fitness(guess):  # compute the fitness value\n",
    "    return sum(1 for expected, actual in zip(target, guess) if expected==actual)\n",
    "\n",
    "def mutate(parent):  # change one charater of the parent string\n",
    "    index = random.randrange(0, len(parent))  # 0이상 len(parent) 미만의 난수\n",
    "    childGenes = list(parent)\n",
    "    newGene, alternate = random.sample(geneSet, 2)\n",
    "    childGenes[index] = alternate if newGene == childGenes[index] else newGene\n",
    "    \n",
    "    return ''.join(childGenes)\n",
    "\n",
    "def display(guess):  # print the guess string and its fitness value\n",
    "    timeDiff = datetime.datetime.now() - startTime\n",
    "    fitness = get_fitness(guess)\n",
    "    print(\"{}\\t{}\\t{}\".format(guess, fitness, timeDiff))"
   ]
  },
  {
   "cell_type": "code",
   "execution_count": 13,
   "metadata": {},
   "outputs": [],
   "source": [
    "random.seed()"
   ]
  },
  {
   "cell_type": "code",
   "execution_count": 14,
   "metadata": {},
   "outputs": [],
   "source": [
    "startTime = datetime.datetime.now()"
   ]
  },
  {
   "cell_type": "code",
   "execution_count": 15,
   "metadata": {},
   "outputs": [],
   "source": [
    "bestParent = gen_parent(len(target))"
   ]
  },
  {
   "cell_type": "code",
   "execution_count": 16,
   "metadata": {},
   "outputs": [],
   "source": [
    "bestFitness = get_fitness(bestParent)"
   ]
  },
  {
   "cell_type": "code",
   "execution_count": 17,
   "metadata": {},
   "outputs": [
    {
     "name": "stdout",
     "output_type": "stream",
     "text": [
      "aQPDwixqvFKsR\t0\t0:00:01.540065\n"
     ]
    }
   ],
   "source": [
    "display(bestParent)"
   ]
  },
  {
   "cell_type": "code",
   "execution_count": null,
   "metadata": {},
   "outputs": [
    {
     "name": "stdout",
     "output_type": "stream",
     "text": [
      "gahuoqSHwjoW\t1\t0:02:10.215396\n",
      "gahuoqSHwloW\t2\t0:02:10.216361\n",
      "HahuoqSHwloW\t3\t0:02:10.218353\n",
      "HahuoqSHwldW\t4\t0:02:10.230321\n",
      "HahuoqSowldW\t5\t0:02:10.230321\n",
      "HaluoqSowldW\t6\t0:02:10.234312\n",
      "HaluoqSorldW\t7\t0:02:10.240291\n",
      "HaluoqWorldW\t8\t0:02:10.246276\n",
      "HaluoqWorld!\t9\t0:02:10.264229\n",
      "HeluoqWorld!\t10\t0:02:10.277195\n",
      "HelloqWorld!\t11\t0:02:10.320110\n"
     ]
    }
   ],
   "source": [
    "while True:\n",
    "    child = mutate(bestParent)\n",
    "    childFitness = get_fitness(child)\n",
    "    if bestFitness >= childFitness:\n",
    "        continue\n",
    "    display(child)\n",
    "    if childFitness >= len(bestParent):\n",
    "        break\n",
    "    bestFitness = childFitness\n",
    "    bestParent = child"
   ]
  },
  {
   "cell_type": "code",
   "execution_count": 18,
   "metadata": {},
   "outputs": [
    {
     "name": "stdout",
     "output_type": "stream",
     "text": [
      "aQPDwixqvFfsR\t1\t0:00:06.061665\n",
      "aQPDwixqvFfsn\t2\t0:00:06.064693\n",
      "aQtDwixqvFfsn\t3\t0:00:06.066654\n",
      "aQtDwixqvFfun\t4\t0:00:06.068647\n",
      "aQthwixqvFfun\t5\t0:00:06.071638\n",
      "aQthoixqvFfun\t6\t0:00:06.079617\n",
      "aQthoixivFfun\t7\t0:00:06.083607\n",
      "aQthoixisFfun\t8\t0:00:06.090587\n",
      "aQthonxisFfun\t9\t0:00:06.091587\n",
      "aythonxisFfun\t10\t0:00:06.098569\n",
      "PythonxisFfun\t11\t0:00:06.112529\n",
      "Python.isFfun\t12\t0:00:06.125527\n",
      "Python.is.fun\t13\t0:00:06.128485\n"
     ]
    }
   ],
   "source": [
    "while True:\n",
    "    child = mutate(bestParent)\n",
    "    childFitness = get_fitness(child)\n",
    "    if bestFitness >= childFitness:\n",
    "        continue\n",
    "    display(child)\n",
    "    if childFitness >= len(bestParent):\n",
    "        break\n",
    "    bestFitness = childFitness\n",
    "    bestParent = child"
   ]
  },
  {
   "cell_type": "code",
   "execution_count": null,
   "metadata": {},
   "outputs": [],
   "source": []
  }
 ],
 "metadata": {
  "kernelspec": {
   "display_name": "Python 3",
   "language": "python",
   "name": "python3"
  },
  "language_info": {
   "codemirror_mode": {
    "name": "ipython",
    "version": 3
   },
   "file_extension": ".py",
   "mimetype": "text/x-python",
   "name": "python",
   "nbconvert_exporter": "python",
   "pygments_lexer": "ipython3",
   "version": "3.7.1"
  }
 },
 "nbformat": 4,
 "nbformat_minor": 4
}
