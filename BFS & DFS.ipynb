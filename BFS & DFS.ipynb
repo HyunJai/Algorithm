{
 "cells": [
  {
   "cell_type": "markdown",
   "metadata": {},
   "source": [
    "# BFS"
   ]
  },
  {
   "cell_type": "code",
   "execution_count": 18,
   "metadata": {},
   "outputs": [],
   "source": [
    "from collections import deque\n",
    "\n",
    "romaniaMap = {\n",
    "    'Arad': ['Zerind', 'Timisoara', 'Sibiu'],\n",
    "    'Zerind': ['Arad'],\n",
    "    'Timisoara': ['Arad'],\n",
    "    'Sibiu': ['Fagaras', 'RV', 'Oradea'],\n",
    "    'Fagaras': ['Sibiu'],\n",
    "    'Oradea': ['Sibiu'],\n",
    "    'RV': ['Pitesti', 'Craiova'],\n",
    "    'Pitesti': ['RV'],\n",
    "    'Craiova': ['RV']\n",
    "}"
   ]
  },
  {
   "cell_type": "code",
   "execution_count": 25,
   "metadata": {},
   "outputs": [
    {
     "name": "stdout",
     "output_type": "stream",
     "text": [
      "['Arad', 'Zerind', 'Timisoara', 'Sibiu', 'Fagaras', 'RV', 'Oradea', 'Pitesti']\n"
     ]
    }
   ],
   "source": [
    "def bfs(romaniaMap, start_node):\n",
    "    visited = list()\n",
    "    queue = deque()\n",
    "    \n",
    "    queue.append(start_node)\n",
    "    \n",
    "    while queue:\n",
    "        node = queue.popleft()\n",
    "        if node not in visited:\n",
    "            visited.append(node)\n",
    "            queue.extend(romaniaMap[node])\n",
    "        \n",
    "        if node == 'Pitesti':\n",
    "            break\n",
    "        \n",
    "    return visited\n",
    "\n",
    "print(bfs(romaniaMap, 'Arad'))"
   ]
  },
  {
   "cell_type": "markdown",
   "metadata": {},
   "source": [
    "# DFS"
   ]
  },
  {
   "cell_type": "code",
   "execution_count": 12,
   "metadata": {},
   "outputs": [],
   "source": [
    "romaniaMap = {\n",
    "    'Arad': ['Zerind', 'Timisoara', 'Sibiu'],\n",
    "    'Zerind': ['Arad'],\n",
    "    'Timisoara': ['Arad'],\n",
    "    'Sibiu': ['Fagaras', 'RV', 'Oradea'],\n",
    "    'Fagaras': ['Sibiu'],\n",
    "    'Oradea': ['Sibiu'],\n",
    "    'RV': ['Pitesti', 'Craiova'],\n",
    "    'Pitesti': ['RV'],\n",
    "    'Craiova': ['RV']\n",
    "}"
   ]
  },
  {
   "cell_type": "code",
   "execution_count": 14,
   "metadata": {},
   "outputs": [
    {
     "data": {
      "text/plain": [
       "['Arad', 'Zerind', 'Timisoara', 'Sibiu', 'Fagaras', 'RV', 'Pitesti']"
      ]
     },
     "execution_count": 14,
     "metadata": {},
     "output_type": "execute_result"
    }
   ],
   "source": [
    "def dfs(romaniaMap, start_node):\n",
    "    visited = list()\n",
    "    stack = list()\n",
    "    \n",
    "    stack.append(start_node)\n",
    "    \n",
    "    while stack:\n",
    "        node = stack.pop()\n",
    "        if node not in visited:\n",
    "            visited.append(node)\n",
    "            stack.extend(reversed(romaniaMap[node]))\n",
    "        if node == 'Pitesti':\n",
    "            break\n",
    "                \n",
    "    return visited\n",
    "\n",
    "dfs(romaniaMap, 'Arad')"
   ]
  },
  {
   "cell_type": "code",
   "execution_count": null,
   "metadata": {},
   "outputs": [],
   "source": []
  }
 ],
 "metadata": {
  "kernelspec": {
   "display_name": "Python 3",
   "language": "python",
   "name": "python3"
  },
  "language_info": {
   "codemirror_mode": {
    "name": "ipython",
    "version": 3
   },
   "file_extension": ".py",
   "mimetype": "text/x-python",
   "name": "python",
   "nbconvert_exporter": "python",
   "pygments_lexer": "ipython3",
   "version": "3.7.1"
  }
 },
 "nbformat": 4,
 "nbformat_minor": 4
}
